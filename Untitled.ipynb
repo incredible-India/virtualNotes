{
 "cells": [
  {
   "cell_type": "code",
   "execution_count": 3,
   "id": "76ff00a3",
   "metadata": {},
   "outputs": [],
   "source": [
    "# hello\n",
    "\n",
    "\n"
   ]
  },
  {
   "cell_type": "markdown",
   "id": "4230c110",
   "metadata": {},
   "source": [
    "## hello"
   ]
  },
  {
   "cell_type": "code",
   "execution_count": 4,
   "id": "6e7aa3f5",
   "metadata": {},
   "outputs": [],
   "source": [
    "##hellobook\n"
   ]
  },
  {
   "cell_type": "code",
   "execution_count": null,
   "id": "54f8ee38",
   "metadata": {},
   "outputs": [],
   "source": []
  }
 ],
 "metadata": {
  "kernelspec": {
   "display_name": "Python 3 (ipykernel)",
   "language": "python",
   "name": "python3"
  },
  "language_info": {
   "codemirror_mode": {
    "name": "ipython",
    "version": 3
   },
   "file_extension": ".py",
   "mimetype": "text/x-python",
   "name": "python",
   "nbconvert_exporter": "python",
   "pygments_lexer": "ipython3",
   "version": "3.10.0"
  }
 },
 "nbformat": 4,
 "nbformat_minor": 5
}
